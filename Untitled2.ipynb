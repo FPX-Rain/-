{
  "nbformat": 4,
  "nbformat_minor": 0,
  "metadata": {
    "colab": {
      "name": "Untitled2.ipynb",
      "provenance": [],
      "authorship_tag": "ABX9TyN76oxPl1nEBDYVvRAChBMQ",
      "include_colab_link": true
    },
    "kernelspec": {
      "name": "python3",
      "display_name": "Python 3"
    },
    "language_info": {
      "name": "python"
    }
  },
  "cells": [
    {
      "cell_type": "markdown",
      "metadata": {
        "id": "view-in-github",
        "colab_type": "text"
      },
      "source": [
        "<a href=\"https://colab.research.google.com/github/FPX-Rain/-/blob/master/Untitled2.ipynb\" target=\"_parent\"><img src=\"https://colab.research.google.com/assets/colab-badge.svg\" alt=\"Open In Colab\"/></a>"
      ]
    },
    {
      "cell_type": "code",
      "execution_count": null,
      "metadata": {
        "id": "UTSKygEly62s"
      },
      "outputs": [],
      "source": [
        "!pip install kaggle\n",
        "!pip install --upgrade --force-reinstall --no-deps kaggle\n",
        "!mkdir -p ~/.kaggle\n",
        "!echo '{\"username\":\"darkrain\",\"key\":\"198c80bf7c47f0fad6c6e865d102b532\"}' > ~/.kaggle/kaggle.json\n",
        "!chmod 600 ~/.kaggle/kaggle.json\n",
        "!kaggle datasets download -d darkrain/tianchi-rain\n",
        "!kaggle kernels output darkrain/notebook0f1699694c -p /path/to/dest"
      ]
    },
    {
      "cell_type": "code",
      "source": [
        "!unzip /content/tianchi-rain.zip"
      ],
      "metadata": {
        "id": "3JJW0CntzSd6"
      },
      "execution_count": null,
      "outputs": []
    },
    {
      "cell_type": "code",
      "source": [
        "!kaggle kernels output darkrain/notebook0f1699694c"
      ],
      "metadata": {
        "id": "fD9GtbuDzMg8"
      },
      "execution_count": null,
      "outputs": []
    }
  ]
}