{
  "cells": [
    {
      "cell_type": "markdown",
      "metadata": {
        "id": "view-in-github",
        "colab_type": "text"
      },
      "source": [
        "<a href=\"https://colab.research.google.com/github/FPX-Rain/-/blob/master/kaggle_train_great_reff.ipynb\" target=\"_parent\"><img src=\"https://colab.research.google.com/assets/colab-badge.svg\" alt=\"Open In Colab\"/></a>"
      ]
    },
    {
      "cell_type": "code",
      "execution_count": null,
      "metadata": {
        "id": "6yFMN9ocDlNN"
      },
      "outputs": [],
      "source": [
        "\n",
        "!pip install kaggle\n",
        "!mkdir -p ~/.kaggle\n",
        "!echo '{\"username\":\"darkrain\",\"key\":\"198c80bf7c47f0fad6c6e865d102b532\"}' > ~/.kaggle/kaggle.json\n",
        "!chmod 600 ~/.kaggle/kaggle.json\n",
        "!kaggle competitions download -c tensorflow-great-barrier-reef -p '/content/sample_data/kaggle'"
      ]
    },
    {
      "cell_type": "code",
      "execution_count": null,
      "metadata": {
        "colab": {
          "base_uri": "https://localhost:8080/"
        },
        "id": "aoSBzAJ7GkDZ",
        "outputId": "e5c49822-9a4f-487c-ef69-1776b88f9bb3"
      },
      "outputs": [
        {
          "name": "stdout",
          "output_type": "stream",
          "text": [
            "Collecting kaggle\n",
            "  Downloading kaggle-1.5.12.tar.gz (58 kB)\n",
            "\u001b[?25l\r\u001b[K     |█████▋                          | 10 kB 24.2 MB/s eta 0:00:01\r\u001b[K     |███████████▏                    | 20 kB 29.1 MB/s eta 0:00:01\r\u001b[K     |████████████████▊               | 30 kB 13.1 MB/s eta 0:00:01\r\u001b[K     |██████████████████████▎         | 40 kB 10.0 MB/s eta 0:00:01\r\u001b[K     |███████████████████████████▉    | 51 kB 4.5 MB/s eta 0:00:01\r\u001b[K     |████████████████████████████████| 58 kB 2.8 MB/s \n",
            "\u001b[?25hBuilding wheels for collected packages: kaggle\n",
            "  Building wheel for kaggle (setup.py) ... \u001b[?25l\u001b[?25hdone\n",
            "  Created wheel for kaggle: filename=kaggle-1.5.12-py3-none-any.whl size=73051 sha256=df5df128262646af7efc1dad2e83d7809967fb6fa15accfc8b32bd3198d1edfe\n",
            "  Stored in directory: /root/.cache/pip/wheels/62/d6/58/5853130f941e75b2177d281eb7e44b4a98ed46dd155f556dc5\n",
            "Successfully built kaggle\n",
            "Installing collected packages: kaggle\n",
            "  Attempting uninstall: kaggle\n",
            "    Found existing installation: kaggle 1.5.12\n",
            "    Uninstalling kaggle-1.5.12:\n",
            "      Successfully uninstalled kaggle-1.5.12\n",
            "Successfully installed kaggle-1.5.12\n"
          ]
        }
      ],
      "source": [
        "!pip install --upgrade --force-reinstall --no-deps kaggle"
      ]
    },
    {
      "cell_type": "code",
      "execution_count": null,
      "metadata": {
        "colab": {
          "base_uri": "https://localhost:8080/"
        },
        "id": "uDg0zlWWGzNt",
        "outputId": "ac00892d-715e-4530-fbfe-9904724b6fda"
      },
      "outputs": [
        {
          "name": "stdout",
          "output_type": "stream",
          "text": [
            "Downloading tensorflow-great-barrier-reef.zip to /content/sample_data/kaggle\n",
            "100% 14.2G/14.2G [05:37<00:00, 74.4MB/s]\n",
            "100% 14.2G/14.2G [05:37<00:00, 45.1MB/s]\n"
          ]
        }
      ],
      "source": [
        "!mkdir -p ~/.kaggle\n",
        "!echo '{\"username\":\"darkrain\",\"key\":\"198c80bf7c47f0fad6c6e865d102b532\"}' > ~/.kaggle/kaggle.json\n",
        "!chmod 600 ~/.kaggle/kaggle.json\n",
        "!kaggle competitions download -c tensorflow-great-barrier-reef -p '/content/sample_data/kaggle'"
      ]
    },
    {
      "cell_type": "code",
      "execution_count": null,
      "metadata": {
        "colab": {
          "base_uri": "https://localhost:8080/"
        },
        "id": "0J7v_TzHIdLv",
        "outputId": "086a6092-b173-406b-dd09-939ee1b13ebd"
      },
      "outputs": [
        {
          "name": "stdout",
          "output_type": "stream",
          "text": [
            "/content/sample_data/kaggle\n"
          ]
        }
      ],
      "source": [
        "%cd /content/sample_data/kaggle"
      ]
    },
    {
      "cell_type": "code",
      "execution_count": null,
      "metadata": {
        "id": "sOMqjHwsIiyW"
      },
      "outputs": [],
      "source": [
        "!ls"
      ]
    },
    {
      "cell_type": "code",
      "execution_count": null,
      "metadata": {
        "id": "VWNayTpAImis"
      },
      "outputs": [],
      "source": [
        "!unzip tensorflow-great-barrier-reef.zip"
      ]
    },
    {
      "cell_type": "code",
      "execution_count": null,
      "metadata": {
        "id": "Wr6czUBxLsSN"
      },
      "outputs": [],
      "source": [
        "# This Python 3 environment comes with many helpful analytics libraries installed\n",
        "# It is defined by the kaggle/python Docker image: https://github.com/kaggle/docker-python\n",
        "# For example, here's several helpful packages to load\n",
        "\n",
        "import numpy as np # linear algebra\n",
        "import pandas as pd # data processing, CSV file I/O (e.g. pd.read_csv)\n",
        "from shutil import copyfile\n",
        "\n",
        "# Input data files are available in the read-only \"../input/\" directory\n",
        "# For example, running this (by clicking run or pressing Shift+Enter) will list all files under the input directory"
      ]
    },
    {
      "cell_type": "code",
      "execution_count": null,
      "metadata": {
        "id": "cPfnFLMZLMP-"
      },
      "outputs": [],
      "source": [
        "train = pd.read_csv('/content/sample_data/kaggle/train.csv')\n",
        "train['pos'] = train.annotations != '[]'"
      ]
    },
    {
      "cell_type": "code",
      "execution_count": null,
      "metadata": {
        "id": "GrIehKrTL80U"
      },
      "outputs": [],
      "source": [
        "!mkdir -p /content/drive/MyDrive/kaggle_data/yolo_data/fold1/images/val\n",
        "!mkdir -p /content/drive/MyDrive/kaggle_data/yolo_data/fold1/images/train\n",
        "\n",
        "!mkdir -p /content/drive/MyDrive/kaggle_data/yolo_data/fold1/labels/val\n",
        "!mkdir -p /content/drive/MyDrive/kaggle_data/yolo_data/fold1/labels/train"
      ]
    },
    {
      "cell_type": "code",
      "execution_count": null,
      "metadata": {
        "id": "WlowDKnCNQCv"
      },
      "outputs": [],
      "source": [
        "fold = 1\n",
        "\n",
        "annos = []\n",
        "for i, x in train.iterrows():\n",
        "    if x.video_id == fold:\n",
        "        mode = 'val'\n",
        "    else:\n",
        "        # train\n",
        "        mode = 'train'\n",
        "        if not x.pos: continue\n",
        "        # val\n",
        "    copyfile(f'/content/sample_data/kaggle/train_images/video_{x.video_id}/{x.video_frame}.jpg',\n",
        "                f'/content/drive/MyDrive/kaggle_data/yolo_data/fold{fold}/images/{mode}/{x.image_id}.jpg')\n",
        "    if not x.pos:\n",
        "        continue\n",
        "    r = ''\n",
        "    anno = eval(x.annotations)\n",
        "    for an in anno:\n",
        "#            annos.append(an)\n",
        "        r += '0 {} {} {} {}\\n'.format((an['x'] + an['width'] / 2) / 1280,\n",
        "                                        (an['y'] + an['height'] / 2) / 720,\n",
        "                                        an['width'] / 1280, an['height'] / 720)\n",
        "    with open(f'/content/drive/MyDrive/kaggle_data/yolo_data/fold{fold}/labels/{mode}/{x.image_id}.txt', 'w') as fp:\n",
        "        fp.write(r)"
      ]
    },
    {
      "cell_type": "code",
      "execution_count": null,
      "metadata": {
        "id": "eosoUwZeQ_UH"
      },
      "outputs": [],
      "source": [
        "hyps = '''\n",
        "# YOLOv5 by Ultralytics, GPL-3.0 license\n",
        "# Hyperparameters for COCO training from scratch\n",
        "# python train.py --batch 40 --cfg yolov5m.yaml --weights '' --data coco.yaml --img 640 --epochs 300\n",
        "# See tutorials for hyperparameter evolution https://github.com/ultralytics/yolov5#tutorials\n",
        "\n",
        "lr0: 0.01  # initial learning rate (SGD=1E-2, Adam=1E-3)\n",
        "lrf: 0.1  # final OneCycleLR learning rate (lr0 * lrf)\n",
        "momentum: 0.937  # SGD momentum/Adam beta1\n",
        "weight_decay: 0.0005  # optimizer weight decay 5e-4\n",
        "warmup_epochs: 3.0  # warmup epochs (fractions ok)\n",
        "warmup_momentum: 0.8  # warmup initial momentum\n",
        "warmup_bias_lr: 0.1  # warmup initial bias lr\n",
        "box: 0.05  # box loss gain\n",
        "cls: 0.5  # cls loss gain\n",
        "cls_pw: 1.0  # cls BCELoss positive_weight\n",
        "obj: 1.0  # obj loss gain (scale with pixels)\n",
        "obj_pw: 1.0  # obj BCELoss positive_weight\n",
        "iou_t: 0.20  # IoU training threshold\n",
        "anchor_t: 4.0  # anchor-multiple threshold\n",
        "# anchors: 3  # anchors per output layer (0 to ignore)\n",
        "fl_gamma: 0.0  # focal loss gamma (efficientDet default gamma=1.5)\n",
        "hsv_h: 0.015  # image HSV-Hue augmentation (fraction)\n",
        "hsv_s: 0.7  # image HSV-Saturation augmentation (fraction)\n",
        "hsv_v: 0.4  # image HSV-Value augmentation (fraction)\n",
        "degrees: 0.0  # image rotation (+/- deg)\n",
        "translate: 0.1  # image translation (+/- fraction)\n",
        "scale: 0.5  # image scale (+/- gain)\n",
        "shear: 0.0  # image shear (+/- deg)\n",
        "perspective: 0.0  # image perspective (+/- fraction), range 0-0.001\n",
        "flipud: 0.5  # image flip up-down (probability)\n",
        "fliplr: 0.5  # image flip left-right (probability)\n",
        "mosaic: 1.0  # image mosaic (probability)\n",
        "mixup: 0.5  # image mixup (probability)\n",
        "copy_paste: 0.0  # segment copy-paste (probability)\n",
        "'''"
      ]
    },
    {
      "cell_type": "code",
      "execution_count": null,
      "metadata": {
        "id": "kJTtRBOgRF1h"
      },
      "outputs": [],
      "source": [
        "data = '''\n",
        "# Train/val/test sets as 1) dir: path/to/imgs, 2) file: path/to/imgs.txt, or 3) list: [path/to/imgs1, path/to/imgs2, ..]\n",
        "path: ../yolo_data/fold1/  # dataset root dir\n",
        "train: images/train  # train images (relative to 'path') 128 images\n",
        "val: images/val  # val images (relative to 'path') 128 images\n",
        "test:  # test images (optional)\n",
        "\n",
        "# Classes\n",
        "nc: 1  # number of classes\n",
        "names: ['reef']  # class names\n",
        "\n",
        "\n",
        "# Download script/URL (optional)\n",
        "# download: https://ultralytics.com/assets/coco128.zip\n",
        "'''"
      ]
    },
    {
      "cell_type": "code",
      "execution_count": null,
      "metadata": {
        "colab": {
          "base_uri": "https://localhost:8080/"
        },
        "id": "7szHpOWnROWY",
        "outputId": "59d94887-6b79-444c-d673-9a796dd276bd"
      },
      "outputs": [
        {
          "name": "stdout",
          "output_type": "stream",
          "text": [
            "Cloning into '/content/drive/MyDrive/yolo'...\n",
            "remote: Enumerating objects: 10628, done.\u001b[K\n",
            "remote: Total 10628 (delta 0), reused 0 (delta 0), pack-reused 10628\u001b[K\n",
            "Receiving objects: 100% (10628/10628), 10.84 MiB | 7.36 MiB/s, done.\n",
            "Resolving deltas: 100% (7335/7335), done.\n"
          ]
        }
      ],
      "source": [
        "!git clone https://github.com/ultralytics/yolov5.git '/content/drive/MyDrive/yolo'"
      ]
    },
    {
      "cell_type": "code",
      "execution_count": null,
      "metadata": {
        "id": "zwvypheAS3qf"
      },
      "outputs": [],
      "source": [
        "import torch"
      ]
    },
    {
      "cell_type": "code",
      "execution_count": null,
      "metadata": {
        "id": "1DjlTASMSB4n"
      },
      "outputs": [],
      "source": [
        "with open('/content/drive/MyDrive/yolo/data/reef_f1_naive.yaml', 'w') as fp:\n",
        "    fp.write(data)\n",
        "with open('/content/drive/MyDrive/yolo/data/hyps/hyp.heavy.2.yaml', 'w') as fp:\n",
        "    fp.write(hyps)"
      ]
    },
    {
      "cell_type": "code",
      "execution_count": null,
      "metadata": {
        "colab": {
          "base_uri": "https://localhost:8080/"
        },
        "id": "9w7cAM4tSPHt",
        "outputId": "c966cdd0-9cb9-41e3-e01f-c6c34828d115"
      },
      "outputs": [
        {
          "output_type": "stream",
          "name": "stdout",
          "text": [
            "/content/drive/MyDrive/yolo\n"
          ]
        }
      ],
      "source": [
        " %cd /content/drive/MyDrive/yolo"
      ]
    },
    {
      "cell_type": "code",
      "execution_count": null,
      "metadata": {
        "colab": {
          "base_uri": "https://localhost:8080/"
        },
        "id": "xIE2TfvgST-j",
        "outputId": "7c0e68bd-6f4f-4850-8e43-74cefe8d4a08"
      },
      "outputs": [
        {
          "output_type": "stream",
          "name": "stdout",
          "text": [
            "\u001b[34m\u001b[1mtrain: \u001b[0mweights=yolov5m.pt, cfg=, data=reef_f1_naive.yaml, hyp=data/hyps/hyp.heavy.2.yaml, epochs=5, batch_size=1, imgsz=2400, rect=False, resume=False, nosave=False, noval=False, noautoanchor=False, evolve=None, bucket=, cache=None, image_weights=False, device=, multi_scale=False, single_cls=False, optimizer=Adam, sync_bn=False, workers=8, project=runs/train, name=rain_kaggle_model_1, exist_ok=False, quad=False, linear_lr=False, label_smoothing=0.0, patience=100, freeze=[0], save_period=-1, local_rank=-1, entity=None, upload_dataset=False, bbox_interval=-1, artifact_alias=latest\n",
            "\u001b[34m\u001b[1mgithub: \u001b[0m⚠️ YOLOv5 is out of date by 6 commits. Use `git pull` or `git clone https://github.com/ultralytics/yolov5` to update.\n",
            "YOLOv5 🚀 v6.0-207-g8efe977 torch 1.10.0+cu111 CUDA:0 (Tesla T4, 15110MiB)\n",
            "\n",
            "\u001b[34m\u001b[1mhyperparameters: \u001b[0mlr0=0.01, lrf=0.1, momentum=0.937, weight_decay=0.0005, warmup_epochs=3.0, warmup_momentum=0.8, warmup_bias_lr=0.1, box=0.05, cls=0.5, cls_pw=1.0, obj=1.0, obj_pw=1.0, iou_t=0.2, anchor_t=4.0, fl_gamma=0.0, hsv_h=0.015, hsv_s=0.7, hsv_v=0.4, degrees=0.0, translate=0.1, scale=0.5, shear=0.0, perspective=0.0, flipud=0.5, fliplr=0.5, mosaic=1.0, mixup=0.5, copy_paste=0.0\n",
            "\u001b[34m\u001b[1mWeights & Biases: \u001b[0mrun 'pip install wandb' to automatically track and visualize YOLOv5 🚀 runs (RECOMMENDED)\n",
            "\u001b[34m\u001b[1mTensorBoard: \u001b[0mStart with 'tensorboard --logdir runs/train', view at http://localhost:6006/\n",
            "Overriding model.yaml nc=80 with nc=1\n",
            "\n",
            "                 from  n    params  module                                  arguments                     \n",
            "  0                -1  1      5280  models.common.Conv                      [3, 48, 6, 2, 2]              \n",
            "  1                -1  1     41664  models.common.Conv                      [48, 96, 3, 2]                \n",
            "  2                -1  2     65280  models.common.C3                        [96, 96, 2]                   \n",
            "  3                -1  1    166272  models.common.Conv                      [96, 192, 3, 2]               \n",
            "  4                -1  4    444672  models.common.C3                        [192, 192, 4]                 \n",
            "  5                -1  1    664320  models.common.Conv                      [192, 384, 3, 2]              \n",
            "  6                -1  6   2512896  models.common.C3                        [384, 384, 6]                 \n",
            "  7                -1  1   2655744  models.common.Conv                      [384, 768, 3, 2]              \n",
            "  8                -1  2   4134912  models.common.C3                        [768, 768, 2]                 \n",
            "  9                -1  1   1476864  models.common.SPPF                      [768, 768, 5]                 \n",
            " 10                -1  1    295680  models.common.Conv                      [768, 384, 1, 1]              \n",
            " 11                -1  1         0  torch.nn.modules.upsampling.Upsample    [None, 2, 'nearest']          \n",
            " 12           [-1, 6]  1         0  models.common.Concat                    [1]                           \n",
            " 13                -1  2   1182720  models.common.C3                        [768, 384, 2, False]          \n",
            " 14                -1  1     74112  models.common.Conv                      [384, 192, 1, 1]              \n",
            " 15                -1  1         0  torch.nn.modules.upsampling.Upsample    [None, 2, 'nearest']          \n",
            " 16           [-1, 4]  1         0  models.common.Concat                    [1]                           \n",
            " 17                -1  2    296448  models.common.C3                        [384, 192, 2, False]          \n",
            " 18                -1  1    332160  models.common.Conv                      [192, 192, 3, 2]              \n",
            " 19          [-1, 14]  1         0  models.common.Concat                    [1]                           \n",
            " 20                -1  2   1035264  models.common.C3                        [384, 384, 2, False]          \n",
            " 21                -1  1   1327872  models.common.Conv                      [384, 384, 3, 2]              \n",
            " 22          [-1, 10]  1         0  models.common.Concat                    [1]                           \n",
            " 23                -1  2   4134912  models.common.C3                        [768, 768, 2, False]          \n",
            " 24      [17, 20, 23]  1     24246  models.yolo.Detect                      [1, [[10, 13, 16, 30, 33, 23], [30, 61, 62, 45, 59, 119], [116, 90, 156, 198, 373, 326]], [192, 384, 768]]\n",
            "Model Summary: 369 layers, 20871318 parameters, 20871318 gradients, 48.0 GFLOPs\n",
            "\n",
            "Transferred 475/481 items from yolov5m.pt\n",
            "Scaled weight_decay = 0.0005\n",
            "\u001b[34m\u001b[1moptimizer:\u001b[0m Adam with parameter groups 79 weight (no decay), 82 weight, 82 bias\n",
            "\u001b[34m\u001b[1malbumentations: \u001b[0mversion 1.0.3 required by YOLOv5, but version 0.1.12 is currently installed\n",
            "\u001b[34m\u001b[1mtrain: \u001b[0mScanning '/content/drive/MyDrive/kaggle_data/yolo_data/fold1/labels/train.cache' images and labels... 2820 found, 0 missing, 0 empty, 1 corrupt: 100% 2820/2820 [00:00<?, ?it/s]\n",
            "\u001b[34m\u001b[1mtrain: \u001b[0mWARNING: /content/drive/MyDrive/kaggle_data/yolo_data/fold1/images/train/0-9470.jpg: ignoring corrupt image/label: non-normalized or out of bounds coordinates [     1.0021]\n",
            "\u001b[34m\u001b[1mval: \u001b[0mScanning '/content/drive/MyDrive/kaggle_data/yolo_data/fold1/labels/val.cache' images and labels... 2099 found, 6133 missing, 0 empty, 0 corrupt: 100% 8232/8232 [00:00<?, ?it/s]\n",
            "Plotting labels to runs/train/rain_kaggle_model_1/labels.jpg... \n",
            "\n",
            "\u001b[34m\u001b[1mAutoAnchor: \u001b[0m5.91 anchors/target, 1.000 Best Possible Recall (BPR). Current anchors are a good fit to dataset ✅\n",
            "Image sizes 2400 train, 2400 val\n",
            "Using 0 dataloader workers\n",
            "Logging results to \u001b[1mruns/train/rain_kaggle_model_1\u001b[0m\n",
            "Starting training for 5 epochs...\n",
            "\n",
            "     Epoch   gpu_mem       box       obj       cls    labels  img_size\n",
            "       0/4     8.85G   0.06978   0.08615         0         3      2400: 100% 2819/2819 [43:43<00:00,  1.07it/s]\n",
            "               Class     Images     Labels          P          R     mAP@.5 mAP@.5:.95: 100% 4116/4116 [26:57<00:00,  2.54it/s]\n",
            "                 all       8232       6384     0.0181     0.0475    0.00411    0.00108\n",
            "\n",
            "     Epoch   gpu_mem       box       obj       cls    labels  img_size\n",
            "       1/4     8.86G   0.06586   0.08352         0         1      2400: 100% 2819/2819 [43:44<00:00,  1.07it/s]\n",
            "               Class     Images     Labels          P          R     mAP@.5 mAP@.5:.95: 100% 4116/4116 [12:15<00:00,  5.60it/s]\n",
            "                 all       8232       6384      0.193      0.156     0.0818     0.0217\n",
            "\n",
            "     Epoch   gpu_mem       box       obj       cls    labels  img_size\n",
            "       2/4     8.86G   0.06068   0.07772         0         1      2400: 100% 2819/2819 [45:07<00:00,  1.04it/s]\n",
            "               Class     Images     Labels          P          R     mAP@.5 mAP@.5:.95: 100% 4116/4116 [10:46<00:00,  6.37it/s]\n",
            "                 all       8232       6384       0.21      0.136      0.101     0.0341\n",
            "\n",
            "     Epoch   gpu_mem       box       obj       cls    labels  img_size\n",
            "       3/4     8.86G   0.05686   0.07541         0         1      2400:  64% 1804/2819 [29:30<16:57,  1.00s/it]"
          ]
        }
      ],
      "source": [
        "!python train.py --img 2400 --batch 1 --epochs 5 --data reef_f1_naive.yaml --name rain_kaggle_model_1 --hyp data/hyps/hyp.heavy.2.yaml --optimizer Adam --weight yolov5m.pt"
      ]
    },
    {
      "cell_type": "code",
      "execution_count": null,
      "metadata": {
        "id": "JbKfM10UTCsR"
      },
      "outputs": [],
      "source": [
        "!pip install -r requirements.txt\n"
      ]
    },
    {
      "cell_type": "code",
      "execution_count": null,
      "metadata": {
        "id": "xOswkXTd9olM"
      },
      "outputs": [],
      "source": [
        "%cd models"
      ]
    },
    {
      "cell_type": "code",
      "execution_count": null,
      "metadata": {
        "id": "h-QUOx1K9yTW"
      },
      "outputs": [],
      "source": [
        "!python yolo.py --cfg yolo_rain.yaml"
      ]
    }
  ],
  "metadata": {
    "accelerator": "GPU",
    "colab": {
      "collapsed_sections": [],
      "name": "kaggle_train_great reff.ipynb",
      "provenance": [],
      "mount_file_id": "14U5xpHerjHOqa46m6aIeFtfXLkW3Nmvd",
      "authorship_tag": "ABX9TyOZSu5Rd7zDujfDCGgdEh8o",
      "include_colab_link": true
    },
    "kernelspec": {
      "display_name": "Python 3",
      "name": "python3"
    },
    "language_info": {
      "name": "python"
    }
  },
  "nbformat": 4,
  "nbformat_minor": 0
}